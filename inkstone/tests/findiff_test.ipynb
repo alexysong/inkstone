{
 "cells": [
  {
   "cell_type": "markdown",
   "metadata": {},
   "source": [
    "# Test `findiff` package"
   ]
  },
  {
   "cell_type": "code",
   "execution_count": null,
   "metadata": {},
   "outputs": [],
   "source": [
    "import numpy as np\n",
    "from findiff import FinDiff\n",
    "\n",
    "x = np.array([100])\n",
    "dx = 1e-4\n",
    "f = np.sin(x)\n",
    "d_dx = FinDiff(0, dx, 1, acc=2)\n",
    "result_f = d_dx(f)\n",
    "\n",
    "FD_manual = (np.sin(x+dx) - np.sin(x-dx))/(2*dx)\n",
    "\n",
    "print(f\"Analytic:\\n{np.cos(x)}\\nManual finite diff:\\n{FD_manual}\\nfindiff:\\n{result_f}\")"
   ]
  },
  {
   "cell_type": "code",
   "execution_count": null,
   "metadata": {},
   "outputs": [],
   "source": [
    "import numpy as np\n",
    "from findiff import FinDiff\n",
    "\n",
    "n = 10\n",
    "x = np.linspace(0, 10, n)\n",
    "dx = x[1] - x[0]\n",
    "f = np.sin(x)\n",
    "d_dx = FinDiff(0, dx, 1, acc=2)\n",
    "result_f = d_dx(f)\n",
    "\n",
    "FD_manual = np.zeros(n)\n",
    "for idx, x_elem in enumerate(x):\n",
    "    FD_manual[idx] = (np.sin(x_elem+dx) - np.sin(x_elem-dx))/(2*dx)\n",
    "\n",
    "print(f\"Analytic:\\n{np.cos(x)}\\nManual finite diff:\\n{FD_manual}\\nfindiff:\\n{result_f}\")"
   ]
  }
 ],
 "metadata": {
  "kernelspec": {
   "display_name": "ag_ink_py310",
   "language": "python",
   "name": "python3"
  },
  "language_info": {
   "codemirror_mode": {
    "name": "ipython",
    "version": 3
   },
   "file_extension": ".py",
   "mimetype": "text/x-python",
   "name": "python",
   "nbconvert_exporter": "python",
   "pygments_lexer": "ipython3",
   "version": "3.10.14"
  }
 },
 "nbformat": 4,
 "nbformat_minor": 2
}
